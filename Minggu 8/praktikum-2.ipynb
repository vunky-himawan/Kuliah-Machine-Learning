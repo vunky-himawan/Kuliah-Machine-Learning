{
 "cells": [
  {
   "cell_type": "code",
   "execution_count": 1,
   "metadata": {},
   "outputs": [],
   "source": [
    "from sklearn.datasets import fetch_20newsgroups # download dataset\n",
    "from sklearn.feature_extraction.text import TfidfVectorizer\n",
    "from sklearn.linear_model import Perceptron\n",
    "from sklearn.metrics import f1_score, classification_report"
   ]
  },
  {
   "cell_type": "code",
   "execution_count": 2,
   "metadata": {},
   "outputs": [],
   "source": [
    "categories = ['rec.sport.hockey', 'rec.sport.baseball', 'rec.autos']\n",
    "newsgroups_train = fetch_20newsgroups(subset='train', categories=categories, remove=('headers', 'footers', 'quotes'))\n",
    "newsgroups_test = fetch_20newsgroups(subset='test', categories=categories, remove=('headers', 'footers', 'quotes'))"
   ]
  },
  {
   "cell_type": "code",
   "execution_count": 3,
   "metadata": {},
   "outputs": [
    {
     "name": "stdout",
     "output_type": "stream",
     "text": [
      "              precision    recall  f1-score   support\n",
      "\n",
      "           0       0.88      0.88      0.88       396\n",
      "           1       0.82      0.83      0.83       397\n",
      "           2       0.88      0.87      0.87       399\n",
      "\n",
      "    accuracy                           0.86      1192\n",
      "   macro avg       0.86      0.86      0.86      1192\n",
      "weighted avg       0.86      0.86      0.86      1192\n",
      "\n"
     ]
    }
   ],
   "source": [
    "# Ekstrak Fitur\n",
    "vectorizer = TfidfVectorizer()\n",
    "\n",
    "# Fit fitur\n",
    "X_train = vectorizer.fit_transform(newsgroups_train.data)\n",
    "X_test = vectorizer.transform(newsgroups_test.data)\n",
    "\n",
    "# Fit Model\n",
    "clf = Perceptron(random_state=11)\n",
    "clf.fit(X_train, newsgroups_train.target)\n",
    "\n",
    "# Prediksi\n",
    "predictions = clf.predict(X_test)\n",
    "print(classification_report(newsgroups_test.target, predictions))"
   ]
  }
 ],
 "metadata": {
  "kernelspec": {
   "display_name": "kuliah_ml",
   "language": "python",
   "name": "kuliah_ml"
  }
 },
 "nbformat": 4,
 "nbformat_minor": 2
}
